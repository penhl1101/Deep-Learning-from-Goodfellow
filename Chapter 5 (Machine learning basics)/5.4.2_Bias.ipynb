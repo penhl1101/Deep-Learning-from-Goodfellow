{
 "cells": [
  {
   "cell_type": "markdown",
   "id": "004b4fff",
   "metadata": {},
   "source": [
    "This module will first explain more on Bernoulli Distribution illustrated at P.125"
   ]
  },
  {
   "cell_type": "markdown",
   "id": "14b34fa6",
   "metadata": {},
   "source": []
  },
  {
   "cell_type": "code",
   "execution_count": 2,
   "id": "b106ff42",
   "metadata": {},
   "outputs": [],
   "source": [
    "import numpy as np ### From scratch\n",
    "import matplotlib.pyplot as plt\n",
    "np.random.seed(0)"
   ]
  },
  {
   "cell_type": "code",
   "execution_count": 3,
   "id": "d1876f93",
   "metadata": {},
   "outputs": [
    {
     "name": "stdout",
     "output_type": "stream",
     "text": [
      "0.0014100000000000223\n"
     ]
    }
   ],
   "source": [
    "p_true = 0.3 ### We will compare the sample mean with true p\n",
    "n = 20\n",
    "num_trials = 10000\n",
    "\n",
    "estimates_A = []\n",
    "\n",
    "for _ in range(num_trials):\n",
    "    samples = np.random.binomial(n=1, p=p_true, size=n)\n",
    "    hat_a = np.mean(samples) ### We choose sample mean as estimator\n",
    "    estimates_A.append(hat_a)\n",
    "\n",
    "estimates_A = np.array(estimates_A)\n",
    "\n",
    "mean_A = estimates_A.mean()\n",
    "\n",
    "bias_A = mean_A - p_true ### bias(theta) = E[Estimator] - theta(true)\n",
    "\n",
    "print(bias_A)"
   ]
  },
  {
   "cell_type": "code",
   "execution_count": 4,
   "id": "b2c80617",
   "metadata": {},
   "outputs": [
    {
     "name": "stdout",
     "output_type": "stream",
     "text": [
      "0.000134000000000023\n"
     ]
    }
   ],
   "source": [
    "p_true = 0.3 \n",
    "n = 100 ### Change from 20 to 100\n",
    "num_trials = 10000\n",
    "\n",
    "estimates_A = []\n",
    "\n",
    "for _ in range(num_trials):\n",
    "    samples = np.random.binomial(n=1, p=p_true, size=n)\n",
    "    hat_a = np.mean(samples) \n",
    "    estimates_A.append(hat_a)\n",
    "\n",
    "estimates_A = np.array(estimates_A)\n",
    "\n",
    "mean_A = estimates_A.mean()\n",
    "\n",
    "bias_A = mean_A - p_true\n",
    "\n",
    "print(bias_A)"
   ]
  },
  {
   "cell_type": "markdown",
   "id": "ba216cbe",
   "metadata": {},
   "source": [
    "The bias theory states that if n is approaching infinity, the bias will be 0. In the above examples, when the number of samples increase from 20 to 100, the bias (mean) decrease from 0.0014 to 0.000134, which prove that formula."
   ]
  },
  {
   "cell_type": "markdown",
   "id": "ca345481",
   "metadata": {},
   "source": [
    "We will now move on to Gaussain distribution estimator of the mean"
   ]
  },
  {
   "cell_type": "code",
   "execution_count": 5,
   "id": "7ab31276",
   "metadata": {},
   "outputs": [],
   "source": [
    "import numpy as np"
   ]
  },
  {
   "cell_type": "code",
   "execution_count": 7,
   "id": "3af19c80",
   "metadata": {},
   "outputs": [
    {
     "name": "stdout",
     "output_type": "stream",
     "text": [
      "True mean :  3\n",
      "3.000451262446297\n",
      "Bias :  0.0004512624462971182\n"
     ]
    }
   ],
   "source": [
    "mu_true = 3\n",
    "sigma = 1\n",
    "n = 20\n",
    "num_trials = 10000\n",
    "\n",
    "estimates_unbiased = []\n",
    "\n",
    "for _ in range(num_trials): \n",
    "    samples = np.random.normal(loc=mu_true, scale=sigma, size=n)\n",
    "    hat_theta = np.mean(samples)\n",
    "    estimates_unbiased.append(hat_theta)\n",
    "\n",
    "mean = np.mean(estimates_unbiased)\n",
    "\n",
    "bias = mean - mu_true\n",
    "\n",
    "print(\"True mean : \", mu_true)\n",
    "print(mean)\n",
    "print(\"Bias : \", bias)"
   ]
  },
  {
   "cell_type": "code",
   "execution_count": 12,
   "id": "64e82763",
   "metadata": {},
   "outputs": [
    {
     "name": "stdout",
     "output_type": "stream",
     "text": [
      "True mean :  3\n",
      "2.9997912425157423\n",
      "Bias :  -0.00020875748425774887\n"
     ]
    }
   ],
   "source": [
    "mu_true = 3\n",
    "sigma = 1\n",
    "n = 1000 ###Change from 20 to 1000\n",
    "num_trials = 10000\n",
    "\n",
    "estimates_unbiased = []\n",
    "\n",
    "for _ in range(num_trials): \n",
    "    samples = np.random.normal(loc=mu_true, scale=sigma, size=n)\n",
    "    hat_theta = np.mean(samples)\n",
    "    estimates_unbiased.append(hat_theta)\n",
    "\n",
    "mean = np.mean(estimates_unbiased)\n",
    "\n",
    "bias = mean - mu_true\n",
    "\n",
    "print(\"True mean : \", mu_true)\n",
    "print(mean)\n",
    "print(\"Bias : \", bias)"
   ]
  },
  {
   "cell_type": "markdown",
   "id": "0f248393",
   "metadata": {},
   "source": [
    "In the above examples, when number of samples increase from 20 to 1000, bias approaches 0."
   ]
  },
  {
   "cell_type": "markdown",
   "id": "8f993dd8",
   "metadata": {},
   "source": [
    "Now we will focus on the estimators of the variance of a Gaussian Distribution"
   ]
  },
  {
   "cell_type": "code",
   "execution_count": 13,
   "id": "7e420f4e",
   "metadata": {},
   "outputs": [],
   "source": [
    "import numpy as np"
   ]
  },
  {
   "cell_type": "code",
   "execution_count": 14,
   "id": "b7cbd5b6",
   "metadata": {},
   "outputs": [
    {
     "name": "stdout",
     "output_type": "stream",
     "text": [
      "True variance :  4\n",
      "Average estimate :  3.988480336577331\n",
      "Bias :  -0.01151966342266908\n"
     ]
    }
   ],
   "source": [
    "mu_true = 3\n",
    "sigma = 2\n",
    "n = 20\n",
    "num_trials = 10000\n",
    "\n",
    "estimates = []\n",
    "\n",
    "for _ in range(num_trials): \n",
    "    samples = np.random.normal(loc=mu_true, scale = sigma, size = n)\n",
    "    mean = np.mean(samples)\n",
    "    hat_theta = np.sum((samples - mean)**2) / (n-1)  ### Biased estimator\n",
    "    estimates.append(hat_theta)\n",
    "\n",
    "avg_estimate = np.mean(estimates)\n",
    "bias = avg_estimate - sigma**2\n",
    "print(\"True variance : \", sigma**2)\n",
    "print(\"Average estimate : \", avg_estimate)\n",
    "print(\"Bias : \", bias)\n"
   ]
  },
  {
   "cell_type": "code",
   "execution_count": 15,
   "id": "dbe3dc80",
   "metadata": {},
   "outputs": [
    {
     "name": "stdout",
     "output_type": "stream",
     "text": [
      "True variance :  4\n",
      "Average estimate :  3.998516081634671\n",
      "Bias :  -0.0014839183653290178\n"
     ]
    }
   ],
   "source": [
    "mu_true = 3\n",
    "sigma = 2\n",
    "n = 1000 ###Change from 20 to 1000\n",
    "num_trials = 10000\n",
    "\n",
    "estimates = []\n",
    "\n",
    "for _ in range(num_trials): \n",
    "    samples = np.random.normal(loc=mu_true, scale = sigma, size = n)\n",
    "    mean = np.mean(samples)\n",
    "    hat_theta = np.sum((samples - mean)**2) / (n-1)  ### Biased estimator\n",
    "    estimates.append(hat_theta)\n",
    "\n",
    "avg_estimate = np.mean(estimates)\n",
    "bias = avg_estimate - sigma**2\n",
    "print(\"True variance : \", sigma**2)\n",
    "print(\"Average estimate : \", avg_estimate)\n",
    "print(\"Bias : \", bias)\n"
   ]
  },
  {
   "cell_type": "markdown",
   "id": "41176230",
   "metadata": {},
   "source": [
    "The above is an example of estimator of variance of Gaussian distirbution"
   ]
  }
 ],
 "metadata": {
  "kernelspec": {
   "display_name": "Python 3",
   "language": "python",
   "name": "python3"
  },
  "language_info": {
   "codemirror_mode": {
    "name": "ipython",
    "version": 3
   },
   "file_extension": ".py",
   "mimetype": "text/x-python",
   "name": "python",
   "nbconvert_exporter": "python",
   "pygments_lexer": "ipython3",
   "version": "3.11.3"
  }
 },
 "nbformat": 4,
 "nbformat_minor": 5
}
